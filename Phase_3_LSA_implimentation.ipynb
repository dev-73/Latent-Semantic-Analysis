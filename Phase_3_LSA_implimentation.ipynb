{
  "nbformat": 4,
  "nbformat_minor": 0,
  "metadata": {
    "kernelspec": {
      "display_name": "Python 3",
      "language": "python",
      "name": "python3"
    },
    "language_info": {
      "codemirror_mode": {
        "name": "ipython",
        "version": 3
      },
      "file_extension": ".py",
      "mimetype": "text/x-python",
      "name": "python",
      "nbconvert_exporter": "python",
      "pygments_lexer": "ipython3",
      "version": "3.6.5"
    },
    "colab": {
      "name": "Part_3_LSA implimentation.ipynb",
      "provenance": []
    }
  },
  "cells": [
    {
      "cell_type": "markdown",
      "metadata": {
        "id": "PeyDKAfrj7cK"
      },
      "source": [
        "# Importing Modules"
      ]
    },
    {
      "cell_type": "code",
      "metadata": {
        "id": "kAS_gug_j7cS"
      },
      "source": [
        "#importing necessary packages.\n",
        "import numpy as np\n",
        "import pandas as pd\n",
        "import matplotlib.pyplot as plt\n",
        "import seaborn as sns \n",
        "import nltk\n",
        "pd.set_option(\"display.max_colwidth\", 200)\n"
      ],
      "execution_count": null,
      "outputs": []
    },
    {
      "cell_type": "code",
      "metadata": {
        "id": "SWCwQy5Kj7cX"
      },
      "source": [
        "%matplotlib notebook"
      ],
      "execution_count": null,
      "outputs": []
    },
    {
      "cell_type": "markdown",
      "metadata": {
        "id": "XLRPeY30j7cZ"
      },
      "source": [
        "# Reading Cleaned Data"
      ]
    },
    {
      "cell_type": "code",
      "metadata": {
        "id": "3yLQIqdRj7cb"
      },
      "source": [
        "#reading the csv file\n",
        "df=pd.read_csv('cleaned_news.csv')"
      ],
      "execution_count": null,
      "outputs": []
    },
    {
      "cell_type": "code",
      "metadata": {
        "id": "TsHVQEY8j7cc",
        "outputId": "4db73089-5180-423c-fa4d-3ace1e14f101"
      },
      "source": [
        "#checking the information of the dataset\n",
        "df.info()"
      ],
      "execution_count": null,
      "outputs": [
        {
          "output_type": "stream",
          "text": [
            "<class 'pandas.core.frame.DataFrame'>\n",
            "RangeIndex: 200 entries, 0 to 199\n",
            "Data columns (total 4 columns):\n",
            " #   Column        Non-Null Count  Dtype \n",
            "---  ------        --------------  ----- \n",
            " 0   Unnamed: 0    200 non-null    int64 \n",
            " 1   title         200 non-null    object\n",
            " 2   content       200 non-null    object\n",
            " 3   tidy_content  200 non-null    object\n",
            "dtypes: int64(1), object(3)\n",
            "memory usage: 6.4+ KB\n"
          ],
          "name": "stdout"
        }
      ]
    },
    {
      "cell_type": "code",
      "metadata": {
        "id": "QwSa_uRFj7ch",
        "outputId": "51d27f98-db3c-42a8-bed0-2315e004adde"
      },
      "source": [
        "#Top 5 rows of the dataframe\n",
        "df.head()"
      ],
      "execution_count": null,
      "outputs": [
        {
          "output_type": "execute_result",
          "data": {
            "text/html": [
              "<div>\n",
              "<style scoped>\n",
              "    .dataframe tbody tr th:only-of-type {\n",
              "        vertical-align: middle;\n",
              "    }\n",
              "\n",
              "    .dataframe tbody tr th {\n",
              "        vertical-align: top;\n",
              "    }\n",
              "\n",
              "    .dataframe thead th {\n",
              "        text-align: right;\n",
              "    }\n",
              "</style>\n",
              "<table border=\"1\" class=\"dataframe\">\n",
              "  <thead>\n",
              "    <tr style=\"text-align: right;\">\n",
              "      <th></th>\n",
              "      <th>Unnamed: 0</th>\n",
              "      <th>title</th>\n",
              "      <th>content</th>\n",
              "      <th>tidy_content</th>\n",
              "    </tr>\n",
              "  </thead>\n",
              "  <tbody>\n",
              "    <tr>\n",
              "      <th>0</th>\n",
              "      <td>0</td>\n",
              "      <td>Alton Sterling’s son: ’Everyone needs to protest the right way, with peace’</td>\n",
              "      <td>The son of a Louisiana man whose father was shot and killed at   range by Baton Rouge police asked protesters for “peace” and “no violence, none whatsoever”. Cameron Sterling, the    son of Alton ...</td>\n",
              "      <td>louisiana whose father shot kill rang baton roug polic ask protest peac violenc none whatsoev cameron sterl alton sterl whose death hand polic caught video spoke father protest alton sterl kill ba...</td>\n",
              "    </tr>\n",
              "    <tr>\n",
              "      <th>1</th>\n",
              "      <td>1</td>\n",
              "      <td>Shakespeare’s first four folios sell at auction for almost £2.5m</td>\n",
              "      <td>Copies of William Shakespeare’s first four books, dubbed the “Holy Grail of publishing” have sold for almost £2. 5m at auction. Christie’s said they were sold as separate lots on Wednesday but wer...</td>\n",
              "      <td>copi william shakespear first four book dub holi grail publish sold almost auction christi said sold separ lot wednesday bought anonym privat american collector sale london includ bard first folio...</td>\n",
              "    </tr>\n",
              "    <tr>\n",
              "      <th>2</th>\n",
              "      <td>2</td>\n",
              "      <td>My grandmother’s death saved me from a life of debt</td>\n",
              "      <td>Debt: $20, 000, Source: College, credit cards, Estimated time till debt free: Unclear, From a purely financial standpoint, my grandmother’s death is probably the best thing that has happened to me...</td>\n",
              "      <td>debt sourc colleg credit card estim time till debt free unclear from pure financi standpoint grandmoth death probabl best thing happen adult life grandmoth came oversea live mother high school rav...</td>\n",
              "    </tr>\n",
              "    <tr>\n",
              "      <th>3</th>\n",
              "      <td>3</td>\n",
              "      <td>I feared my life lacked meaning. Cancer pushed me to find some</td>\n",
              "      <td>It was late. I was drunk, nearing my 35th birthday this past May, alone in a dank college dorm room, attending my   grad school reunion. The journal entry I wrote that night was just one line: “I’...</td>\n",
              "      <td>late drunk near birthday past alon dank colleg dorm room attend grad school reunion journal entri wrote night line want reunion charad noth life actual suggest track ambiti public servic aspir wor...</td>\n",
              "    </tr>\n",
              "    <tr>\n",
              "      <th>4</th>\n",
              "      <td>4</td>\n",
              "      <td>Texas man serving life sentence innocent of double murder, judge says</td>\n",
              "      <td>A central Texas man serving a life sentence for a double murder in 1992 is innocent, as are three codefendants no longer in prison, a state judge has found. Retired district judge George Allen rul...</td>\n",
              "      <td>central texa serv life sentenc doubl murder innoc three codefend longer prison state judg found retir district judg georg allen rule friday richard bryan kussmaul free three codefend receiv senten...</td>\n",
              "    </tr>\n",
              "  </tbody>\n",
              "</table>\n",
              "</div>"
            ],
            "text/plain": [
              "   Unnamed: 0  \\\n",
              "0           0   \n",
              "1           1   \n",
              "2           2   \n",
              "3           3   \n",
              "4           4   \n",
              "\n",
              "                                                                         title  \\\n",
              "0  Alton Sterling’s son: ’Everyone needs to protest the right way, with peace’   \n",
              "1             Shakespeare’s first four folios sell at auction for almost £2.5m   \n",
              "2                          My grandmother’s death saved me from a life of debt   \n",
              "3               I feared my life lacked meaning. Cancer pushed me to find some   \n",
              "4        Texas man serving life sentence innocent of double murder, judge says   \n",
              "\n",
              "                                                                                                                                                                                                   content  \\\n",
              "0  The son of a Louisiana man whose father was shot and killed at   range by Baton Rouge police asked protesters for “peace” and “no violence, none whatsoever”. Cameron Sterling, the    son of Alton ...   \n",
              "1  Copies of William Shakespeare’s first four books, dubbed the “Holy Grail of publishing” have sold for almost £2. 5m at auction. Christie’s said they were sold as separate lots on Wednesday but wer...   \n",
              "2  Debt: $20, 000, Source: College, credit cards, Estimated time till debt free: Unclear, From a purely financial standpoint, my grandmother’s death is probably the best thing that has happened to me...   \n",
              "3  It was late. I was drunk, nearing my 35th birthday this past May, alone in a dank college dorm room, attending my   grad school reunion. The journal entry I wrote that night was just one line: “I’...   \n",
              "4  A central Texas man serving a life sentence for a double murder in 1992 is innocent, as are three codefendants no longer in prison, a state judge has found. Retired district judge George Allen rul...   \n",
              "\n",
              "                                                                                                                                                                                              tidy_content  \n",
              "0  louisiana whose father shot kill rang baton roug polic ask protest peac violenc none whatsoev cameron sterl alton sterl whose death hand polic caught video spoke father protest alton sterl kill ba...  \n",
              "1  copi william shakespear first four book dub holi grail publish sold almost auction christi said sold separ lot wednesday bought anonym privat american collector sale london includ bard first folio...  \n",
              "2  debt sourc colleg credit card estim time till debt free unclear from pure financi standpoint grandmoth death probabl best thing happen adult life grandmoth came oversea live mother high school rav...  \n",
              "3  late drunk near birthday past alon dank colleg dorm room attend grad school reunion journal entri wrote night line want reunion charad noth life actual suggest track ambiti public servic aspir wor...  \n",
              "4  central texa serv life sentenc doubl murder innoc three codefend longer prison state judg found retir district judg georg allen rule friday richard bryan kussmaul free three codefend receiv senten...  "
            ]
          },
          "metadata": {
            "tags": []
          },
          "execution_count": 139
        }
      ]
    },
    {
      "cell_type": "code",
      "metadata": {
        "id": "iToTD2nxj7cj"
      },
      "source": [
        "#Splitting the text by spaces or in simple words tokenizing.\n",
        "df['tokenized_content'] = df['tidy_content'].apply(lambda x: x.split())"
      ],
      "execution_count": null,
      "outputs": []
    },
    {
      "cell_type": "code",
      "metadata": {
        "id": "G1yHPpQvj7ck",
        "outputId": "6d0fecf2-5e42-40fd-c7d9-c10e51934dd3"
      },
      "source": [
        "#checking the first cleaned tokenised text.\n",
        "print((df['tokenized_content'].values)[0])"
      ],
      "execution_count": null,
      "outputs": [
        {
          "output_type": "stream",
          "text": [
            "['louisiana', 'whose', 'father', 'shot', 'kill', 'rang', 'baton', 'roug', 'polic', 'ask', 'protest', 'peac', 'violenc', 'none', 'whatsoev', 'cameron', 'sterl', 'alton', 'sterl', 'whose', 'death', 'hand', 'polic', 'caught', 'video', 'spoke', 'father', 'protest', 'alton', 'sterl', 'kill', 'baton', 'roug', 'polic', 'juli', 'conveni', 'store', 'said', 'sell', 'baton', 'roug', 'polic', 'said', 'statement', 'polic', 'call', 'conveni', 'store', 'sterl', 'allegedli', 'threaten', 'anoth', 'patron', 'press', 'confer', 'wednesday', 'cameron', 'first', 'sinc', 'broke', 'sob', 'nation', 'broadcast', 'press', 'confer', 'mother', 'follow', 'father', 'death', 'came', 'talk', 'everyon', 'death', 'father', 'feel', 'peopl', 'gener', 'said', 'cameron', 'whose', 'distinctli', 'young', 'voic', 'calm', 'compos', 'front', 'scrum', 'report', 'tripl', 'conveni', 'store', 'peopl', 'gener', 'matter', 'race', 'come', 'togeth', 'unit', 'famili', 'argument', 'violenc', 'crime', 'said', 'cameron', 'protest', 'want', 'everyon', 'protest', 'right', 'protest', 'peac', 'gun', 'drug', 'alcohol', 'violenc', 'everyon', 'need', 'protest', 'right', 'peac', 'violenc', 'none', 'whatsoev', 'earlier', 'wednesday', 'interview', 'new', 'cameron', 'said', 'believ', 'polic', 'polic', 'punish', 'polic', 'crime', 'polic', 'dalla', 'texa', 'deserv', 'said', 'cameron', 'alton', 'sterl', 'death', 'spur', 'depart', 'justic', 'investig', 'protest', 'across', 'countri', 'subject', 'march', 'dalla', 'thursday', 'gunman', 'attack', 'kill', 'five', 'polic', 'offic', 'first', 'polic', 'shoot', 'week', 'includ', 'shock', 'video', 'shoot', 'minnesota', 'philandro', 'castil', 'aftermath', 'broadcast', 'live', 'facebook', 'girlfriend']\n"
          ],
          "name": "stdout"
        }
      ]
    },
    {
      "cell_type": "markdown",
      "metadata": {
        "id": "YVLWdOe3j7cn"
      },
      "source": [
        "# LSA Implimentation"
      ]
    },
    {
      "cell_type": "markdown",
      "metadata": {
        "id": "PpNeR2xtj7co"
      },
      "source": [
        "LSA is a vector-based method that assumes that words that share the same meaning also occur in the same texts (Landauer and Dumais, 1997:215). This is done by first simplifying the document-term matrix using Singular Value Decomposition (SVD), before finding close related terms and documents. This is done by using the principals of vector-based cosine similarities."
      ]
    },
    {
      "cell_type": "code",
      "metadata": {
        "id": "pjUWLBfUj7cp",
        "outputId": "a9497252-b6aa-40ce-ab76-92c63453a81d"
      },
      "source": [
        "#Using scikit learn tfidf vectorizer to get doc term TF-IDF score\n",
        "from sklearn.feature_extraction.text import TfidfVectorizer, CountVectorizer\n",
        "\n",
        "#bow_vectorizer = TfidfVectorizer(max_df=0.90, min_df=2,max_features=1000, stop_words='english')\n",
        "bow_vectorizer = TfidfVectorizer(max_df=0.90, min_df=2, stop_words='english')\n",
        "bow = bow_vectorizer.fit_transform(df['tidy_content'])\n",
        "bow.shape"
      ],
      "execution_count": null,
      "outputs": [
        {
          "output_type": "execute_result",
          "data": {
            "text/plain": [
              "(200, 5272)"
            ]
          },
          "metadata": {
            "tags": []
          },
          "execution_count": 142
        }
      ]
    },
    {
      "cell_type": "code",
      "metadata": {
        "scrolled": true,
        "id": "TAwCeMxFj7cr",
        "outputId": "4eacd041-448f-479a-dde9-58102cf678f7"
      },
      "source": [
        "#total number of words considered in the corpus.\n",
        "len(bow_vectorizer.get_feature_names())"
      ],
      "execution_count": null,
      "outputs": [
        {
          "output_type": "execute_result",
          "data": {
            "text/plain": [
              "5272"
            ]
          },
          "metadata": {
            "tags": []
          },
          "execution_count": 143
        }
      ]
    },
    {
      "cell_type": "code",
      "metadata": {
        "id": "dtjZZoKvj7cs"
      },
      "source": [
        "#creating doc-term matrix for our documents\n",
        "term_doc_mat=bow_vectorizer.transform(df['tidy_content'].values)"
      ],
      "execution_count": null,
      "outputs": []
    },
    {
      "cell_type": "markdown",
      "metadata": {
        "id": "rK_AqqODj7ct"
      },
      "source": [
        "# SVD (singular-value decomposition)\n",
        "In linear algebra, the singular-value decomposition (SVD) is a factorization of a real or complex matrix. It is the generalization of the eigendecomposition of a positive semidefinite normal matrix (for example, a symmetric matrix with positive eigenvalues) to any m × n matrix via an extension of the polar decomposition. It has many useful applications in signal processing and statistics. "
      ]
    },
    {
      "cell_type": "markdown",
      "metadata": {
        "id": "-8sybzzLj7cu"
      },
      "source": [
        "### Truncated SVD will assign different weight to all the word features for different topics. I am considering 5 topics for my convinience."
      ]
    },
    {
      "cell_type": "code",
      "metadata": {
        "id": "y5sGsUGMj7cv"
      },
      "source": [
        "#Using sklearn's SVD package\n",
        "no_of_topic=5\n",
        "from sklearn.decomposition import TruncatedSVD\n",
        "lsa = TruncatedSVD(n_components=no_of_topic,n_iter=100)"
      ],
      "execution_count": null,
      "outputs": []
    },
    {
      "cell_type": "code",
      "metadata": {
        "id": "U0yRgc69j7cw",
        "outputId": "dab678c3-7c0d-4cb6-f8ac-086c2febadd2"
      },
      "source": [
        "#fitting the term-doc matrix into the model\n",
        "lsa.fit(term_doc_mat)"
      ],
      "execution_count": null,
      "outputs": [
        {
          "output_type": "execute_result",
          "data": {
            "text/plain": [
              "TruncatedSVD(n_components=5, n_iter=100)"
            ]
          },
          "metadata": {
            "tags": []
          },
          "execution_count": 146
        }
      ]
    },
    {
      "cell_type": "code",
      "metadata": {
        "id": "Y33SwbHNj7cx"
      },
      "source": [
        "#saving all the corpus words in the variable terms for further use.\n",
        "terms = bow_vectorizer.get_feature_names()"
      ],
      "execution_count": null,
      "outputs": []
    },
    {
      "cell_type": "code",
      "metadata": {
        "id": "MhKpt0srj7cy",
        "outputId": "e138da09-436e-4c30-9889-8e784faed674"
      },
      "source": [
        "#weights for all the words for different-differnt topics(in our case 5)\n",
        "print(lsa.components_)"
      ],
      "execution_count": null,
      "outputs": [
        {
          "output_type": "stream",
          "text": [
            "[[ 2.00494971e-03  7.74474538e-03  2.39032073e-03 ...  2.35228451e-02\n",
            "   3.22853445e-03  6.32328888e-03]\n",
            " [ 3.12291412e-04 -4.33440842e-03 -4.41075012e-05 ... -1.06936603e-02\n",
            "  -5.83457891e-03 -7.92871861e-03]\n",
            " [ 3.28937385e-03 -1.21335369e-03 -4.54738278e-03 ...  1.41314767e-01\n",
            "  -1.27639588e-02  8.62978619e-03]\n",
            " [-1.39876517e-03 -1.39982743e-03 -1.43858307e-03 ...  2.37952417e-01\n",
            "   3.36540704e-03  1.30246921e-03]\n",
            " [-1.87928857e-04 -6.05687298e-03  5.73597934e-03 ... -5.97168916e-02\n",
            "   1.56600395e-02  1.29200919e-02]]\n"
          ],
          "name": "stdout"
        }
      ]
    },
    {
      "cell_type": "code",
      "metadata": {
        "id": "7ivBCTZxj7cz",
        "outputId": "6705ec7a-782b-455f-a841-74d9576ea1dd"
      },
      "source": [
        "'''Considering the top 20 words for all the 5 topic we created using the truncated SVD.\n",
        "   Displaing the top 20 words of each topic with weights.'''\n",
        "%matplotlib inline\n",
        "topic_dic={}\n",
        "f, axarr = plt.subplots(no_of_topic,1,figsize=(10, 20))\n",
        "f.suptitle('Topic\\'s Top 20 word weight',fontsize= 30)\n",
        "plt.subplots_adjust(hspace = 0.5)\n",
        "for i,comp in enumerate(lsa.components_):\n",
        "    termsInComp = zip(terms,comp)\n",
        "    sortedterms = sorted(termsInComp, key=lambda x: x[1],reverse=True)[:20]\n",
        "    topic_dic[i]=sortedterms\n",
        "    #print(\"Concept %d:\" % i)\n",
        "    word=[]\n",
        "    weight=[]\n",
        "    fig=[]\n",
        "    \n",
        "    #\n",
        "    for term in sortedterms:\n",
        "        word.append(term[0])\n",
        "        weight.append(term[1])\n",
        "        #print(term,end=',')   \n",
        "        axarr[i].set_title('Topic '+str(i+1)+ ' word weightage distribution')\n",
        "        axarr[i].bar(word, weight)\n",
        "        axarr[i].tick_params(axis='x', labelrotation=45)\n",
        "    \n",
        "    print(\" \")\n",
        "#plt.xticks(rotation=90)\n",
        "plt.show()"
      ],
      "execution_count": null,
      "outputs": [
        {
          "output_type": "stream",
          "text": [
            " \n",
            " \n",
            " \n",
            " \n",
            " \n"
          ],
          "name": "stdout"
        },
        {
          "output_type": "display_data",
          "data": {
            "image/png": "[encoded data removed]",
            "text/plain": [
              "<Figure size 720x1440 with 5 Axes>"
            ]
          },
          "metadata": {
            "tags": [],
            "needs_background": "light"
          }
        }
      ]
    },
    {
      "cell_type": "markdown",
      "metadata": {
        "id": "ND9Zoeldj7c1"
      },
      "source": [
        "### Classifing the Documents"
      ]
    },
    {
      "cell_type": "code",
      "metadata": {
        "id": "jmMzsXCHj7c2"
      },
      "source": [
        "'''When passed a document it will calculate it's score for all the five topics and return a list of scores.'''\n",
        "def score(doc):\n",
        "    topic_score=[]\n",
        "    for i in topic_dic.keys():\n",
        "        score=0\n",
        "        for each in topic_dic[i]:\n",
        "            if(each[0] in doc):\n",
        "                n=doc.count(each[0])\n",
        "                score+=n*each[1]\n",
        "        topic_score.append(score)\n",
        "    return(topic_score)"
      ],
      "execution_count": null,
      "outputs": []
    },
    {
      "cell_type": "code",
      "metadata": {
        "id": "uBW7SBuuj7c4"
      },
      "source": [
        "#passing all the documents to classify the topics to the documents.\n",
        "scores=df['tidy_content'].apply(score)"
      ],
      "execution_count": null,
      "outputs": []
    },
    {
      "cell_type": "code",
      "metadata": {
        "id": "tBi3KkUvj7c4",
        "outputId": "907e3a8c-a902-4878-8150-211e52c98cfc"
      },
      "source": [
        "scores[:10]"
      ],
      "execution_count": null,
      "outputs": [
        {
          "output_type": "execute_result",
          "data": {
            "text/plain": [
              "0                                       [2.4490994866419222, 0, 5.761899575824556, 0, 0.3985467870636208]\n",
              "1                                      [0.8608253820842989, 0, 0.5920048271734065, 0, 0.1992733935318104]\n",
              "2                                                       [1.1447617890702246, 0, 0, 0.9867866381623511, 0]\n",
              "3                                     [1.1418769224744703, 0, 0.15892499589284825, 0.0695033112020203, 0]\n",
              "4                    [1.7116310724205825, 0.06457694831521087, 0.8714048993839857, 0, 0.4072451736852127]\n",
              "5     [4.093720375414312, 3.7974798235899057, 0.7787633727391025, 0.9489251823943496, 1.1613950104838342]\n",
              "6    [4.944082276405187, 0.04625383856337582, 5.643709314199891, 0.19653969646030223, 1.0552816392697235]\n",
              "7                                     [1.6468026278703751, 0, 0.8786406287842353, 0, 0.32458985071186053]\n",
              "8     [6.1497122955370545, 0.06457694831521087, 5.391682939885204, 0.9574362128622291, 0.999520356529058]\n",
              "9     [9.752113622334688, 14.047644161275503, 0.8737603811960908, 0.16465558747028497, 3.526332564108908]\n",
              "Name: tidy_content, dtype: object"
            ]
          },
          "metadata": {
            "tags": []
          },
          "execution_count": 152
        }
      ]
    },
    {
      "cell_type": "code",
      "metadata": {
        "id": "VbCSl25Ej7c6"
      },
      "source": [
        "'''topic_num will take a list as input and will return the index with the maximum value in that list.\n",
        "   This will help giving the document a cluster number'''\n",
        "def topic_num(score):\n",
        "    score=np.argmax(score)\n",
        "    return score"
      ],
      "execution_count": null,
      "outputs": []
    },
    {
      "cell_type": "code",
      "metadata": {
        "id": "DgS-1Bpjj7c7"
      },
      "source": [
        "#geting the cluster number for all the document\n",
        "classified=scores.apply(topic_num)"
      ],
      "execution_count": null,
      "outputs": []
    },
    {
      "cell_type": "code",
      "metadata": {
        "id": "Oy3MtWgwj7c-",
        "outputId": "679bf83c-fd00-4d27-ab7d-07be0e28e175"
      },
      "source": [
        "#checking how many document alloted to all the clusters in our data.\n",
        "classified.value_counts()"
      ],
      "execution_count": null,
      "outputs": [
        {
          "output_type": "execute_result",
          "data": {
            "text/plain": [
              "0    103\n",
              "1     37\n",
              "4     30\n",
              "2     24\n",
              "3      6\n",
              "Name: tidy_content, dtype: int64"
            ]
          },
          "metadata": {
            "tags": []
          },
          "execution_count": 155
        }
      ]
    },
    {
      "cell_type": "code",
      "metadata": {
        "id": "NSMa6fo9j7dA",
        "outputId": "b3dbc635-dd78-4934-c0e9-097951418a48"
      },
      "source": [
        "#plot to show the number of documents to each topic\n",
        "plt.bar(classified.value_counts().index, classified.value_counts().values)\n",
        "plt.title('Number of Documents to each Topic from LSA')"
      ],
      "execution_count": null,
      "outputs": [
        {
          "output_type": "execute_result",
          "data": {
            "text/plain": [
              "Text(0.5, 1.0, 'Number of Documents to each Topic from LSA')"
            ]
          },
          "metadata": {
            "tags": []
          },
          "execution_count": 156
        },
        {
          "output_type": "display_data",
          "data": {
            "image/png": "[encoded data removed]",
            "text/plain": [
              "<Figure size 432x288 with 1 Axes>"
            ]
          },
          "metadata": {
            "tags": [],
            "needs_background": "light"
          }
        }
      ]
    },
    {
      "cell_type": "markdown",
      "metadata": {
        "id": "9nYOyXF5j7dC"
      },
      "source": [
        "# K-means clustering "
      ]
    },
    {
      "cell_type": "markdown",
      "metadata": {
        "id": "H5oh6vatj7dD"
      },
      "source": [
        "k-means clustering is a method of vector quantization, originally from signal processing, that is popular for cluster analysis in data mining. k-means clustering aims to partition n observations into k clusters in which each observation belongs to the cluster with the nearest mean, serving as a prototype of the cluster. This results in a partitioning of the data space into Voronoi cells. "
      ]
    },
    {
      "cell_type": "code",
      "metadata": {
        "id": "EGIYAVd4j7dD",
        "outputId": "93e50d93-ca07-429e-b96d-6f7b1be92aed"
      },
      "source": [
        "#Using the kmeans clustering from the sklearn package.\n",
        "from sklearn.cluster import KMeans\n",
        "\n",
        "Kmean = KMeans(n_clusters=5)\n",
        "\n",
        "Kmean.fit(term_doc_mat)"
      ],
      "execution_count": null,
      "outputs": [
        {
          "output_type": "execute_result",
          "data": {
            "text/plain": [
              "KMeans(n_clusters=5)"
            ]
          },
          "metadata": {
            "tags": []
          },
          "execution_count": 157
        }
      ]
    },
    {
      "cell_type": "code",
      "metadata": {
        "id": "dDt3HV-5j7dE"
      },
      "source": [
        "#Storing the prediction from the clustering algorithm\n",
        "prediction=Kmean.predict(term_doc_mat)"
      ],
      "execution_count": null,
      "outputs": []
    },
    {
      "cell_type": "code",
      "metadata": {
        "id": "3QMtM2ELj7dF",
        "outputId": "a961c586-e55d-4561-8be8-698f40083ac9"
      },
      "source": [
        "#checking the count for each cluster to compair with the LSA cluster\n",
        "unique, counts = np.unique(prediction, return_counts=True)\n",
        "\n",
        "unique, counts"
      ],
      "execution_count": null,
      "outputs": [
        {
          "output_type": "execute_result",
          "data": {
            "text/plain": [
              "(array([0, 1, 2, 3, 4]), array([41, 85, 23, 41, 10], dtype=int64))"
            ]
          },
          "metadata": {
            "tags": []
          },
          "execution_count": 159
        }
      ]
    },
    {
      "cell_type": "code",
      "metadata": {
        "id": "dG7kE3w1j7dH",
        "outputId": "40c3a2e2-8dfa-46b0-f402-d1f7e9336635"
      },
      "source": [
        "plt.bar(unique, counts)\n",
        "plt.title('Number of Documents to each Topic from K-means Clustering')"
      ],
      "execution_count": null,
      "outputs": [
        {
          "output_type": "execute_result",
          "data": {
            "text/plain": [
              "Text(0.5, 1.0, 'Number of Documents to each Topic from K-means Clustering')"
            ]
          },
          "metadata": {
            "tags": []
          },
          "execution_count": 160
        },
        {
          "output_type": "display_data",
          "data": {
            "image/png": "[encoded data removed]",
            "text/plain": [
              "<Figure size 432x288 with 1 Axes>"
            ]
          },
          "metadata": {
            "tags": [],
            "needs_background": "light"
          }
        }
      ]
    },
    {
      "cell_type": "markdown",
      "metadata": {
        "id": "KLJUn_F2j7dI"
      },
      "source": [
        "# Comparing LSA assigned topic and K-means assigned topic"
      ]
    },
    {
      "cell_type": "code",
      "metadata": {
        "id": "SOLbVdNRj7dJ"
      },
      "source": [
        "doc_doc=pd.read_csv('doc_doc.csv',index_col=0)"
      ],
      "execution_count": null,
      "outputs": []
    },
    {
      "cell_type": "code",
      "metadata": {
        "id": "b7XJVFKuj7dJ",
        "outputId": "619357d9-f302-4af0-d93b-24e2f96bfb60"
      },
      "source": [
        "doc_doc.head()"
      ],
      "execution_count": null,
      "outputs": [
        {
          "output_type": "execute_result",
          "data": {
            "text/html": [
              "<div>\n",
              "<style scoped>\n",
              "    .dataframe tbody tr th:only-of-type {\n",
              "        vertical-align: middle;\n",
              "    }\n",
              "\n",
              "    .dataframe tbody tr th {\n",
              "        vertical-align: top;\n",
              "    }\n",
              "\n",
              "    .dataframe thead th {\n",
              "        text-align: right;\n",
              "    }\n",
              "</style>\n",
              "<table border=\"1\" class=\"dataframe\">\n",
              "  <thead>\n",
              "    <tr style=\"text-align: right;\">\n",
              "      <th></th>\n",
              "      <th>Doc1</th>\n",
              "      <th>Doc2</th>\n",
              "      <th>Doc3</th>\n",
              "      <th>Doc4</th>\n",
              "      <th>Doc5</th>\n",
              "      <th>Doc6</th>\n",
              "      <th>Doc7</th>\n",
              "      <th>Doc8</th>\n",
              "      <th>Doc9</th>\n",
              "      <th>Doc10</th>\n",
              "      <th>...</th>\n",
              "      <th>Doc191</th>\n",
              "      <th>Doc192</th>\n",
              "      <th>Doc193</th>\n",
              "      <th>Doc194</th>\n",
              "      <th>Doc195</th>\n",
              "      <th>Doc196</th>\n",
              "      <th>Doc197</th>\n",
              "      <th>Doc198</th>\n",
              "      <th>Doc199</th>\n",
              "      <th>Doc200</th>\n",
              "    </tr>\n",
              "  </thead>\n",
              "  <tbody>\n",
              "    <tr>\n",
              "      <th>Doc1</th>\n",
              "      <td>1.000000</td>\n",
              "      <td>0.038307</td>\n",
              "      <td>0.026387</td>\n",
              "      <td>0.029036</td>\n",
              "      <td>0.045337</td>\n",
              "      <td>0.079822</td>\n",
              "      <td>0.076656</td>\n",
              "      <td>0.016005</td>\n",
              "      <td>0.058785</td>\n",
              "      <td>0.025527</td>\n",
              "      <td>...</td>\n",
              "      <td>0.031133</td>\n",
              "      <td>0.042346</td>\n",
              "      <td>0.033596</td>\n",
              "      <td>0.027002</td>\n",
              "      <td>0.006615</td>\n",
              "      <td>0.024549</td>\n",
              "      <td>0.045915</td>\n",
              "      <td>0.017947</td>\n",
              "      <td>0.034031</td>\n",
              "      <td>0.028855</td>\n",
              "    </tr>\n",
              "    <tr>\n",
              "      <th>Doc2</th>\n",
              "      <td>0.038307</td>\n",
              "      <td>1.000000</td>\n",
              "      <td>0.027302</td>\n",
              "      <td>0.058086</td>\n",
              "      <td>0.014191</td>\n",
              "      <td>0.043362</td>\n",
              "      <td>0.037146</td>\n",
              "      <td>0.042356</td>\n",
              "      <td>0.028284</td>\n",
              "      <td>0.027415</td>\n",
              "      <td>...</td>\n",
              "      <td>0.008971</td>\n",
              "      <td>0.037144</td>\n",
              "      <td>0.048185</td>\n",
              "      <td>0.021970</td>\n",
              "      <td>0.012289</td>\n",
              "      <td>0.025644</td>\n",
              "      <td>0.028779</td>\n",
              "      <td>0.017494</td>\n",
              "      <td>0.021585</td>\n",
              "      <td>0.050356</td>\n",
              "    </tr>\n",
              "    <tr>\n",
              "      <th>Doc3</th>\n",
              "      <td>0.026387</td>\n",
              "      <td>0.027302</td>\n",
              "      <td>1.000000</td>\n",
              "      <td>0.110198</td>\n",
              "      <td>0.021527</td>\n",
              "      <td>0.066781</td>\n",
              "      <td>0.076807</td>\n",
              "      <td>0.040102</td>\n",
              "      <td>0.031625</td>\n",
              "      <td>0.022795</td>\n",
              "      <td>...</td>\n",
              "      <td>0.028746</td>\n",
              "      <td>0.047071</td>\n",
              "      <td>0.034295</td>\n",
              "      <td>0.033965</td>\n",
              "      <td>0.015576</td>\n",
              "      <td>0.041274</td>\n",
              "      <td>0.036669</td>\n",
              "      <td>0.012763</td>\n",
              "      <td>0.018148</td>\n",
              "      <td>0.051134</td>\n",
              "    </tr>\n",
              "    <tr>\n",
              "      <th>Doc4</th>\n",
              "      <td>0.029036</td>\n",
              "      <td>0.058086</td>\n",
              "      <td>0.110198</td>\n",
              "      <td>1.000000</td>\n",
              "      <td>0.047526</td>\n",
              "      <td>0.103563</td>\n",
              "      <td>0.107751</td>\n",
              "      <td>0.065321</td>\n",
              "      <td>0.043363</td>\n",
              "      <td>0.032527</td>\n",
              "      <td>...</td>\n",
              "      <td>0.051650</td>\n",
              "      <td>0.085700</td>\n",
              "      <td>0.062714</td>\n",
              "      <td>0.051662</td>\n",
              "      <td>0.032160</td>\n",
              "      <td>0.055039</td>\n",
              "      <td>0.075397</td>\n",
              "      <td>0.028234</td>\n",
              "      <td>0.044562</td>\n",
              "      <td>0.057774</td>\n",
              "    </tr>\n",
              "    <tr>\n",
              "      <th>Doc5</th>\n",
              "      <td>0.045337</td>\n",
              "      <td>0.014191</td>\n",
              "      <td>0.021527</td>\n",
              "      <td>0.047526</td>\n",
              "      <td>1.000000</td>\n",
              "      <td>0.038947</td>\n",
              "      <td>0.056264</td>\n",
              "      <td>0.029084</td>\n",
              "      <td>0.101424</td>\n",
              "      <td>0.028680</td>\n",
              "      <td>...</td>\n",
              "      <td>0.053399</td>\n",
              "      <td>0.062407</td>\n",
              "      <td>0.034927</td>\n",
              "      <td>0.042660</td>\n",
              "      <td>0.025594</td>\n",
              "      <td>0.016350</td>\n",
              "      <td>0.070943</td>\n",
              "      <td>0.016556</td>\n",
              "      <td>0.029067</td>\n",
              "      <td>0.042368</td>\n",
              "    </tr>\n",
              "  </tbody>\n",
              "</table>\n",
              "<p>5 rows × 200 columns</p>\n",
              "</div>"
            ],
            "text/plain": [
              "          Doc1      Doc2      Doc3      Doc4      Doc5      Doc6      Doc7  \\\n",
              "Doc1  1.000000  0.038307  0.026387  0.029036  0.045337  0.079822  0.076656   \n",
              "Doc2  0.038307  1.000000  0.027302  0.058086  0.014191  0.043362  0.037146   \n",
              "Doc3  0.026387  0.027302  1.000000  0.110198  0.021527  0.066781  0.076807   \n",
              "Doc4  0.029036  0.058086  0.110198  1.000000  0.047526  0.103563  0.107751   \n",
              "Doc5  0.045337  0.014191  0.021527  0.047526  1.000000  0.038947  0.056264   \n",
              "\n",
              "          Doc8      Doc9     Doc10  ...    Doc191    Doc192    Doc193  \\\n",
              "Doc1  0.016005  0.058785  0.025527  ...  0.031133  0.042346  0.033596   \n",
              "Doc2  0.042356  0.028284  0.027415  ...  0.008971  0.037144  0.048185   \n",
              "Doc3  0.040102  0.031625  0.022795  ...  0.028746  0.047071  0.034295   \n",
              "Doc4  0.065321  0.043363  0.032527  ...  0.051650  0.085700  0.062714   \n",
              "Doc5  0.029084  0.101424  0.028680  ...  0.053399  0.062407  0.034927   \n",
              "\n",
              "        Doc194    Doc195    Doc196    Doc197    Doc198    Doc199    Doc200  \n",
              "Doc1  0.027002  0.006615  0.024549  0.045915  0.017947  0.034031  0.028855  \n",
              "Doc2  0.021970  0.012289  0.025644  0.028779  0.017494  0.021585  0.050356  \n",
              "Doc3  0.033965  0.015576  0.041274  0.036669  0.012763  0.018148  0.051134  \n",
              "Doc4  0.051662  0.032160  0.055039  0.075397  0.028234  0.044562  0.057774  \n",
              "Doc5  0.042660  0.025594  0.016350  0.070943  0.016556  0.029067  0.042368  \n",
              "\n",
              "[5 rows x 200 columns]"
            ]
          },
          "metadata": {
            "tags": []
          },
          "execution_count": 162
        }
      ]
    },
    {
      "cell_type": "code",
      "metadata": {
        "id": "B5IZJMRmj7dK"
      },
      "source": [
        "#for i in range(1,201):\n",
        "#    for j in range(i+1,201):\n",
        "#        if(doc_doc.loc['Doc'+str(i)]['Doc'+str(j)]>0.2):\n",
        "#            if(classified[i-1]==classified[j-1] and prediction[i-1]==prediction[j-1]):\n",
        "#                print('Doc',i,'and Doc',j,'score is',doc_doc.loc['Doc'+str(i)]['Doc'+str(j)])"
      ],
      "execution_count": null,
      "outputs": []
    },
    {
      "cell_type": "code",
      "metadata": {
        "id": "Ms4HJBftj7dL"
      },
      "source": [
        "'''Now we will check the similarity of K-means and LSA.\n",
        "   same variable counts the document pair that is having same topic for both k-means and LSA'''\n",
        "same=0\n",
        "total=0\n",
        "for i in range(1,201):\n",
        "    for j in range(i+1,201):\n",
        "        if(classified[i-1]==classified[j-1] and prediction[i-1]==prediction[j-1]):\n",
        "            same+=1\n",
        "        total+=1"
      ],
      "execution_count": null,
      "outputs": []
    },
    {
      "cell_type": "code",
      "metadata": {
        "id": "_XNWP8NGj7dL",
        "outputId": "34df9c75-8e08-4164-d662-ce5bf5292ad8"
      },
      "source": [
        "print('total number of Document pair are ', total)\n",
        "print('total number of Document pair classified same by both algorithm are ', same)"
      ],
      "execution_count": null,
      "outputs": [
        {
          "output_type": "stream",
          "text": [
            "total number of Document pair are  19900\n",
            "total number of Document pair classified same by both algorithm are  2893\n"
          ],
          "name": "stdout"
        }
      ]
    },
    {
      "cell_type": "markdown",
      "metadata": {
        "id": "3lAFV0IYj7dM"
      },
      "source": [
        "### Out of 19900 combinations of documents 2893 (may vary with different executions) combinations of documents were given same topic by both LSA and K-means. That makes a total of 15%"
      ]
    },
    {
      "cell_type": "code",
      "metadata": {
        "id": "WcAR0zxqj7dN",
        "outputId": "0f441322-8473-4d63-b554-854c27fb9b10"
      },
      "source": [
        "#checking for all the document combination that has similarity more than 60%\n",
        "for i in range(1,201):\n",
        "    for j in range(i+1,201):\n",
        "        if(doc_doc.loc['Doc'+str(i)]['Doc'+str(j)]>0.6):\n",
        "            if(classified[i-1]==classified[j-1] and prediction[i-1]==prediction[j-1]):\n",
        "                print('Doc',i,'and Doc',j,'score is',doc_doc.loc['Doc'+str(i)]['Doc'+str(j)])"
      ],
      "execution_count": null,
      "outputs": [
        {
          "output_type": "stream",
          "text": [
            "Doc 20 and Doc 191 score is 0.6602014968842258\n"
          ],
          "name": "stdout"
        }
      ]
    },
    {
      "cell_type": "markdown",
      "metadata": {
        "id": "NOmQYriIj7dO"
      },
      "source": [
        "Turns out there is only one document combination that has more than 60% cosine similarity and are given same topics by both algorithm."
      ]
    },
    {
      "cell_type": "code",
      "metadata": {
        "id": "NgD3yWA-j7dP",
        "outputId": "ac04500e-b340-49c3-8019-c6f58ac021a2"
      },
      "source": [
        "#checking document 20 and document 191 because it have max cosine similarity of 0.6602.\n",
        "df.loc[19]['content'],df.loc[190]['content']"
      ],
      "execution_count": null,
      "outputs": [
        {
          "output_type": "execute_result",
          "data": {
            "text/plain": [
              "('The Golden State Warriors came from behind to topple the Oklahoma City Thunder   in Monday’s Game 7 of the Western Conference finals, completing a rally from a   series deficit to seal a place in the NBA finals for the second year in a row. Stephen Curry scored a   36 points to spark the Warriors, who trailed by as many as 13 during the first half but used a   run in the third quarter to open an   lead entering the fourth. His Golden State   Klay Thompson added 21 points and six   to follow up his   performance in Game 6 on Saturday, when the Warriors needed a furious rally to force Monday’s    finale. Golden State become the 10th team in NBA history to rally from a     deficit in   postseason series and win it. “This may be the greatest team in the history of the NBA,” Thunder coach Billy Donovan said afterward. “They do things like make big shots and do some of those things. We were right there every step of the way with them, and this was a   team and world champions. We’ve got to give them credit. ” The series outcome evoked the    expression: were the Warriors the only team good enough to pull off such a comeback  —   or were the Thunder the only team combustable enough to lose from such a winning position? It might be that it was a little bit of both. The history was not in the Thunder’s favor.   teams were   in home Game 7s, according to ESPN. There have been 36 teams to lose Game 6 at home with a   series lead. Of those, less than half came back to win Game 7. But more than that, Russell Westbrook was off his game, shooting for    from the floor on Monday night. Kevin Durant shot    for a total of 27 points, his   Game 7 performance ever. “We laid it all out there,” a somber Durant said. “Everybody left their soul out on the court. We have no regrets. ” Warriors coach Steve Kerr said beforehand he was going to make “11 alterations to the gameplan” one of which was starting Andre Iguodala after a strong showing in Game 6 instead of Harrison Barnes. Iguodala added seven points and was aggressive on defense. Saturday’s Game 6 appeared to be the beginning of the end for the Thunder’s charmed postseason as Oklahoma City blew yet another lead in the fourth quarter. The Thunder were notorious for squandering leads in the final minutes of   games. At one point their number of   collapses were worse than the Philadelphia 76ers, one of the worst teams in the league this year. There is also plenty of speculation about the future of Durant, who will soon be a free agent. A player of his talents could easily make over $100m on a new contract. But Durant, understandably, did not want to discuss such matters on Monday night. “I mean, we just lost like 30 minutes ago, so I haven’t even thought about it,” Durant said. “I’m just embracing my   and just reflecting on the season. I’ll think about that stuff, I don’t know when. But we just lost an hour ago, 30 minutes ago, so I don’t know. ” Bay Area natives Andy Samberg and   were seen in the Oracle Arena crowd, as was Democratic presidential candidate Bernie Sanders, who arrived at   after campaigning in northern California. Now the Cleveland Cavaliers will head to California for a much anticipated rematch of last year’s NBA finals, which the Warriors won in six games. Game 1 is Thursday in Oakland.',\n",
              " 'This year’s NBA playoffs have found their villain now, thumping into the title holders with frosty glares. The Oklahoma City Thunder became the bad guys of the postseason when they broke up what was probably Tim Duncan’s last championship run. And now they are trying to ruin the Golden State Warriors’ joy. OKC swaggered onto the Warriors floor Monday night no longer the young, happy team of a few years back but gruff outsiders scarred by disappointments and looking to stomp on sunshine. There’s nothing fun about this Oklahoma City team. Almost an afterthought in Steph Curry’s Western Conference, the Thunder have remade themselves as a rugged spoiler of pretty basketball, ready to shove, elbow or wrestle their way to a victory. This is what makes them the most serious threat to the Warriors’ dance to a second straight title. They lug with them a world of resentment with nothing to lose    —   a lethal combination in playoff basketball. “I mean we hear it all the time, defense wins games,” Oklahoma City forward Kevin Durant said in a leaden, passionless voice after the Thunder’s   victory over the Warriors in the first conference final game. The team that was supposed to be the Warriors’ latest victim on their march to the next title will not go quietly. All those beautiful passes, skipping shots and delicate player movements that dazzled the NBA this season do not impress a core of Oklahoma City players all these years on. The Thunder use words like “resilient” and “focus,” which usually fill the dreary, heavy talk of a team that looks at the playoffs as a long, tedious slog of games to be endured rather than won. In Game 1 they forced Golden State to rush perfection. Their aggressive lunges at the ball forced the Warriors out of the precise and delicate pace. Passes were thrown a foot too far, shots were an inch too far to the left or right. The Warriors didn’t miss by much. But all the Thunder needed to turn a Golden State party into a   war was nudge Curry (26 points on the night) and Klay Thompson (25) to shoot a couple of seconds too soon and from just the wrong angle. The Golden State machine broke down after that. They are the antidote to the effortless brilliance that has been Golden State for nearly these last two seasons. If they are going to win they will win ugly and this is something they are more than fine with. That determination was never more obvious than in the fourth quarter as they fought their way to victory   at one point in the game they had been 14 points down to the Warriors. Durant picked up 26 points, including a crucial jumper with 30 seconds left, and Russell Westbrook scored 24 of his 27 in the second half. “I mean what’s to celebrate?” Durant said of his team’s dour look after what should have been a momentous victory. “We didn’t win the championship. ” He did not smile. Once the Thunder were the Warriors. Once Durant was Curry, a player who played as if he loved every minute he was on the court. Durant wore backpacks to his postgame press conferences and Westbrook had the funny suits. They were everybody’s darlings, the team the world wanted badly to win back. Late on Monday night, long after Curry had dressed and left the arena, Durant lingered in the hall outside the Thunder locker room. He had on ripped jeans and a denim jacket. He didn’t wear a backpack. He didn’t look young and happy. He waited impatiently for Westbrook who was several steps behind and looked less like a fashion icon and more like someone out to walk the dog in an oversized orange sweatshirt. The Thunder have grown up into something far less fun but far more dangerous. They are forgotten and experienced and they know just how to make the Splash Brothers struggle to make everything look easy. Defense wins games. Who knew years ago this would become the mantra of Westbrook and Durant? But if they are to ever win a title together that is the stand they have to take. They never could win everything by being pretty but they might just take it all by playing ugly. The new Thunder will never be as loveable as the boundless Warriors who skip passes through games with a splendid ease that can resemble a   soccer team.  “They didn’t make many mistakes on the defensive end which forced us into bad shots,” Curry said. “Offensively we sucked,” Golden State’s Draymond Green said. This was, of course, but just one game of a long series and the shots Curry took that looked dumb on Monday would have been brilliant had they fallen. He has a way of turning shots that no one should take into works of art. If two of those attempts that clunked of the rim and instead swished through the net we would be talking about another chapter in the   Curry story. But he didn’t make them and with seven turnovers, many on sloppy pass attempts over the Thunder’s formidable front court he fell into the trap set by the new Thunder, the one that will try to grind their way to a championship. In two weeks they have beaten the Spurs and the Warriors three times on their home courts which is as many times as San Antonio and Golden State lost at home all season. After years of despair they have learned to deliver despair to others. Suddenly there is a threat to the Warriors. Few saw the Thunder coming.')"
            ]
          },
          "metadata": {
            "tags": []
          },
          "execution_count": 167
        }
      ]
    },
    {
      "cell_type": "markdown",
      "metadata": {
        "id": "JN3niwpKj7dQ"
      },
      "source": [
        "## Turns out that yes, both the document belongs to the same topic."
      ]
    },
    {
      "cell_type": "code",
      "metadata": {
        "id": "UV-ksObXj7dQ",
        "outputId": "7079a29a-db73-41b0-884b-94c7994605ab"
      },
      "source": [
        "#checking for all the document combination that LSA has assigned same topic and their validity in K-Means\n",
        "same=0\n",
        "total=0\n",
        "for i in range(1,201):\n",
        "    for j in range(i+1,201):\n",
        "        if(classified[i-1]==classified[j-1]):\n",
        "            if(prediction[i-1]==prediction[j-1]):\n",
        "                same+=1\n",
        "            total+=1\n",
        "\n",
        "print('total number of Document pair classified same by LSA are ', total)\n",
        "print('total number of Document pair classified same by K-means given are classified same by LSA are ', same)"
      ],
      "execution_count": null,
      "outputs": [
        {
          "output_type": "stream",
          "text": [
            "total number of Document pair classified same by LSA are  6645\n",
            "total number of Document pair classified same by K-means given are classified same by LSA are  2893\n"
          ],
          "name": "stdout"
        }
      ]
    },
    {
      "cell_type": "markdown",
      "metadata": {
        "id": "3DkzPedBj7dR"
      },
      "source": [
        "### There are total 6645(May vary with execution) Document pair where LSA has assigned same topic, out of which only 2893(may vary with execution) are assigned to same topic by K-Means clustering."
      ]
    },
    {
      "cell_type": "code",
      "metadata": {
        "id": "UXRYizARj7dS"
      },
      "source": [
        ""
      ],
      "execution_count": null,
      "outputs": []
    }
  ]
}